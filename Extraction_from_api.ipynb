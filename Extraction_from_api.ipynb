{
 "cells": [
  {
   "cell_type": "code",
   "execution_count": 1,
   "metadata": {},
   "outputs": [],
   "source": [
    "import re\n",
    "import requests\n",
    "from pprint import pp\n",
    "import pandas as pd\n",
    "import json\n",
    "import math"
   ]
  },
  {
   "attachments": {},
   "cell_type": "markdown",
   "metadata": {},
   "source": [
    "The US_Cities file contains a list of all the USA cities that can be passed as an api parameter for TheMuse's api.  The list contains nearly 2400 cities so its saved to another file instead of clogging up this file.  The process that was used to generate this list is included in the US_Cities file."
   ]
  },
  {
   "cell_type": "code",
   "execution_count": 5,
   "metadata": {},
   "outputs": [],
   "source": [
    "import US_Cities as us"
   ]
  },
  {
   "attachments": {},
   "cell_type": "markdown",
   "metadata": {},
   "source": [
    "This function is a simple api call from TheMuse assuming a single location is passed.  It returns the results of a single api page and the number of pages that need to accessed to extract the full results."
   ]
  },
  {
   "cell_type": "code",
   "execution_count": 3,
   "metadata": {},
   "outputs": [],
   "source": [
    "def muse_api_call(category, location, sort_order=\"d\", page=0):\n",
    "    url = 'https://www.themuse.com/api/public/jobs'\n",
    "    headers = {\"Content-type\": \"application/json\"}\n",
    "\n",
    "    if sort_order in [\"d\", \"desc\", \"descending\"]: sort_value = \"true\"\n",
    "    else: sort_value = \"false\"\n",
    "\n",
    "    params = {'category':category, 'location': location, 'page': page, 'descending': sort_value}\n",
    "    resp = requests.get(url, params=params, headers=headers).json()\n",
    "\n",
    "    return resp"
   ]
  },
  {
   "attachments": {},
   "cell_type": "markdown",
   "metadata": {},
   "source": [
    "Since the api can't handle the entire list of USA cities we had to break the list up into pieces.  The results with 600 cities passed was in the 110-150 page range, depending on the portion of the list.  Since we can't access past page 99 we decided to make two api calls, one in descending order and one in ascending order.  So we add the first half of the pages to a dictionary using the descending order results and then add the second half of the results using the ascending order results.\n",
    "\n",
    "We stored each job listing as an entry into a dictionary with the id of the job listing being the key and the contents of the job listing being the value.  This elminated any duplicates in our results."
   ]
  },
  {
   "cell_type": "code",
   "execution_count": 14,
   "metadata": {},
   "outputs": [],
   "source": [
    "def get_all_muse_pages(category, location):\n",
    "    results = {}\n",
    "    loc_lmt = 600\n",
    "    \n",
    "    while loc_lmt-600 < len(location):\n",
    "        resp = muse_api_call(category, location[loc_lmt-600:loc_lmt])\n",
    "        pages = resp['page_count']\n",
    "        for page in range(math.ceil(pages/2)):\n",
    "            order = ['d', 'a']\n",
    "            for ele in order:\n",
    "                resp = muse_api_call(category, location[loc_lmt-600:loc_lmt], ele, page)\n",
    "                for num in range(len(resp['results'])):\n",
    "                    results[resp['results'][num]['id']] = resp['results'][num]\n",
    "\n",
    "        loc_lmt += 600\n",
    "\n",
    "    return results"
   ]
  },
  {
   "cell_type": "code",
   "execution_count": 15,
   "metadata": {},
   "outputs": [],
   "source": [
    "data_analytics_results = get_all_muse_pages('Data and Analytics', us.US_Cities)"
   ]
  },
  {
   "cell_type": "code",
   "execution_count": 7,
   "metadata": {},
   "outputs": [],
   "source": [
    "data_science_results = get_all_muse_pages('Data Science', us.US_Cities)"
   ]
  },
  {
   "attachments": {},
   "cell_type": "markdown",
   "metadata": {},
   "source": [
    "Below two lines write the saved dictionairies to a file"
   ]
  },
  {
   "cell_type": "code",
   "execution_count": 74,
   "metadata": {},
   "outputs": [],
   "source": [
    "with open('data_analytics_results.json', 'w') as new_file:\n",
    "    new_file.write(json.dumps(data_analytics_results))"
   ]
  },
  {
   "cell_type": "code",
   "execution_count": 97,
   "metadata": {},
   "outputs": [],
   "source": [
    "with open('data_science_results.json', 'w') as new_file:\n",
    "    new_file.write(json.dumps(data_science_results))"
   ]
  }
 ],
 "metadata": {
  "kernelspec": {
   "display_name": "Python 3",
   "language": "python",
   "name": "python3"
  },
  "language_info": {
   "codemirror_mode": {
    "name": "ipython",
    "version": 3
   },
   "file_extension": ".py",
   "mimetype": "text/x-python",
   "name": "python",
   "nbconvert_exporter": "python",
   "pygments_lexer": "ipython3",
   "version": "3.10.7"
  },
  "orig_nbformat": 4
 },
 "nbformat": 4,
 "nbformat_minor": 2
}
