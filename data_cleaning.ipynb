{
 "cells": [
  {
   "cell_type": "code",
   "execution_count": 2,
   "metadata": {},
   "outputs": [],
   "source": [
    "import pandas as pd\n",
    "import json\n",
    "pd.set_option('max_colwidth', None)\n",
    "#pd.set_option(\"max_rows\", None)\n",
    "\n",
    "# pd.set_option('max_rows',20)\n",
    "# pd.set_option('max_columns',10)\n",
    "# pd.set_option('max_colwidth', 20)"
   ]
  },
  {
   "cell_type": "code",
   "execution_count": 117,
   "metadata": {},
   "outputs": [],
   "source": [
    "df=pd.read_json('data_analytics_results.json').transpose()\n",
    "#df.head()"
   ]
  },
  {
   "attachments": {},
   "cell_type": "markdown",
   "metadata": {},
   "source": [
    "### Data Cleaning"
   ]
  },
  {
   "cell_type": "code",
   "execution_count": 118,
   "metadata": {},
   "outputs": [
    {
     "data": {
      "text/plain": [
       "11371281    DoD SkillBridge Internship - Technician/Specialist - Salt Lake City, UTThis opportunity is unique to active-duty US Military Service members with formal approval to participate as a DoD SkillBridge Intern in collaboration with Vets2PM's authorized DoD SkillBridge program.Desired Military Experience, Backgrounds and/or Aptitude:Civil Engineering (HVAC & Electrician)Mechanical/Electrical/Electronic/Computer SystemsAutomation/Integration Technicians & SpecialistsNuclear Engineering/Power/EnergySatellite/Radar SystemsComm TechsFire Control NavaidsSubmarine Electronics/Computer TechsAvionics Systems & more!About our Smart Buildings:Because we spend 90% of our lives in buildings, they should be perfect places for all we do. Smart buildings enhance the experience. Interacting with people, systems, and ambient elements, they learn from experience and real-time input. Using intelligent control, security, and energy management systems, we help factories and offices better support the industries they house. We help schools, hospitals, data centers, and military bases have a great impact - all while increasing comfort, efficiency, resilience, and safety. Our Smart Buildings help to create efficient, safe, responsive, and responsible environments. Our aim isn't just about improving buildings; it's about creating perfect places that improve peoples' lives.>>Lean more about Siemens Smart BuildingsOur Three Main Business Groups that you could be assigned to:Building Automation: HVAC Controls, Lighting Controls, and Mechanical/Electrical ServicesFire/Life Safety: Fire Alarm, Mass/Emergency Communication, and Sprinkler/SuppressionSecurity: Integrated Surveillance and Access ControlsWhat Technicians/Specialists do for Siemens Smart Infrastructure:  Technicians/Specialists are the people that (for Service) gather data, troubleshoot, and carries-out critical maintenance and repairs; or (for Solutions) install new equipment, run start-up, and commission systems in our customers' HVAC/Building Automation, Fire/Life Safety, or Integrated Security systems in large commercial buildings such as hospitals, universities, and military bases. Why is this so important? The Technician/Specialist is the face of Siemens, and your expertise and regular interaction with the customer will help them save energy, money, and create a more sustainable future for our environment. Responsibilities:Meet with the customers (for Service) to diagnose their HVAC/Building Automation, Fire/Life Safety, or Integrated Security electronic control system malfunctions and use your expertise to maintain, repair, or (for Solutions) install new equipment; commissioning if neededConsult with our internal engineering and management team for discrepancies in our drawings or as problems ariseInterface with the customers: complete the service work documentation, assist them with training instructions needed for future ease-of-use, and (most importantly) recommend system enhancements providing a value-added partner relationshipQualifications:U.S. Military experience as an E4 or above (Navy, Air Force, Army, Marines, Coast Guard, Space Force, National Guard, Reserves)High school diploma or state-recognized GED required; Associates degree preferredElectro-mechanical aptitude/knowledge/skillsKnowledge of Building Automation Controls, Fire/Life Safety or Integrated Security systems preferredFor positions related to Fire/Life Safety: knowledge of NFPA codes and ability to obtain certification in NICET I is preferredComputer and software skillsMicrosoft Office and Microsoft Project experience preferredQualified applicants must be legally authorized for employment in the United StatesMust be 21 years of age and possess a valid driver's license with limited violationsYou must be able to read/understand design and construction documents; work in a variety of environments in and around mechanical equipment, including climbing ladders, scaffolds, and high-lift equipment, working in ducts, above ceilings, and in outside/inside/heat/cold/day/night conditions; use hand tools, laptop, email, smartphone, and tablet; carry and move equipment and tools weighing up to 50 pounds unassistedThis position may support Siemens' customers who require all employees and vendors to be fully vaccinated against COVID-19 where permitted by applicable law and in accordance with an accommodation based on legally protected reasons. Why work for Siemens as a SkillBridge Intern?You will gain hands-on experience during your internship and will have the opportunity to join (upon successful completion of the internship) one of the world's largest and best-known companies as acknowledged in 2022 by:Fortune: World's Most Admired CompaniesForbes: America's Best Large Employers, America's Best Employers for Diversity, and Best Employers for New GraduatesFast Company: Most Innovative Companies and World Changing Ideas AwardsCorporate Equality Index: Best Places to Work for LGBTQ+ EqualityWe offer our full-time employees (post-SkillBridge) an excellent benefits/compensation package, growth/learning/development opportunities, and a diverse/inclusive culture where everyone plays their part and makes an impact for our team and our customers.#RSS#DODSB#LI-CR1Organization: Smart InfrastructureCompany: Siemens Industry, Inc.Experience Level: Early ProfessionalFull / Part time: Full-Time temporaryEqual Employment Opportunity StatementSiemens is an Equal Opportunity and Affirmative Action Employer encouraging diversity in the workplace. All qualified applicants will receive consideration for employment without regard to their race, color, creed, religion, national origin, citizenship status, ancestry, sex, age, physical or mental disability unrelated to ability, marital status, family responsibilities, pregnancy, genetic information, sexual orientation, gender expression, gender identity, transgender, sex stereotyping, order of protection status, protected veteran or military status, or an unfavorable discharge from military service, and other categories protected by federal, state or local law.EEO is the LawApplicants and employees are protected under Federal law from discrimination. To learn more, Click here.Pay Transparency Non-Discrimination ProvisionSiemens follows Executive Order 11246, including the Pay Transparency Nondiscrimination Provision. To learn more, Click here.California Privacy NoticeCalifornia residents have the right to receive additional notices about their personal information. To learn more, click here.\n",
       "10657954                                                                                                                                                                                                                                                                                                                                                                                                                                                                                                                                                                                                                                                                                                                                                                                                                                                                                                                                                                                                                                                                                                                                                                                                                                                                                                                                                                                                                                                                                                                                                                                                                                                                                                                                                                                                                                                                                                                                                                                                                                                                                                                                                                                                                                                                                                                                                                                                                                                                                                                                                                                                                                                                                                                                                                                                                                                                                                                                                                                                                                                                                                                                                                                                                                                                                                                                                                                                                                                                                                                                                                                                                                                                               At Echo we are committed to help our Associates grow their career. Apply today and grow with Echo!Our Product Managers work with business stakeholders and end users to surface product ideas and enhancement requests for Echo Global Logistics' proprietary enterprise technologies and serve as a product owner to an Agile delivery Team. Our proprietary software was created to simplify transportation management for our clients. You will help support the architectural vision of quality, scalability, performance and function. You will help build a world class technology platform.Responsibilities:Serve as product owner to an Agile delivery team and provide tactical direction to that team.Act as the communication conduit between business stakeholders, end users and the application development team.Lead product discovery sessions and the development of product visions, release plans and product backlogs.Understand the business processes, business requirements, and business priorities; define product solutions based on business needs. Define key success metrics for product releases; report on metrics to key stakeholders to gauge overall product health.Define product launch and training requirements; support and execute training as required.Work with Beta user groups to test new products and gather feedback.Position Requirements7+ years of Product Based ExperienceUndergraduate Degree preferred or equivalent work experience.Exposure to the full software development lifecycle experience in an Agile environmentStrong and proven skills in creating quality documents such as user stories/acceptance criteria, business requirements/use cases, process flows, product backlogsGood analytical and problem-solving skills to evaluate business and market problems and apply technology and domain knowledge to identify appropriate solutionsProficient with MS Word, Excel, and Visio (charts, reports, data analysis, and flowcharting)Basic understanding of database concepts, including design, optimization, and SQL query language a plus.Echo Global Logistics is a top provider of technology-enabled solutions and supply chain management.   Our solutions simplify transportation management for our clients by handling the crucial tasks. From coast to coast, dock to dock, and across all major transportation modes, Echo connects businesses to the carriers who transport their goods quickly, securely, and cost-effectively.Crain's Business recently ranked Echo as a Top 25 Tech Employer in Chicago. We've also been recognized as the top 3PL provider. We're seeking passionate, driven and imaginative minds to join our team and help carry out our mission of providing our clients with best in class service and technology!#LI-MA1#LI-RemoteAll qualified applicants will receive consideration for employment without regard to age, race, color, religion, sex, sexual orientation, gender identity, national origin, status as a qualified individual with a disability, or Vietnam era or other protected veteran.\n",
       "11375515                                                                                                                                                                                                                                                                                                                                                                                                                                                                                                                                                                                                                                                                                                                                                                                                                                                                                                                                                                                                                                                                                                                                                                                                                                                                                                                                                                                                                                                                                                                                                                                                                                                                                                                                                                                                                                               Applicant Privacy Notice\\nLooking to join a world-class blockchain development team? Ava Labs makes it simple to deploy high-performance solutions for Web3, led by innovations on Avalanche. The company was founded by Cornell computer scientists, who partnered with Wall Street veterans and early Web3 leaders to execute a promising vision for redefining the way people build permissionless networks. Ava Labs is redefining the way people create value with Web3. Join us as we empower people to easily and freely digitize all the world’s assets on one open, programmable blockchain platform\\n\\nWe are seeking an experienced Data Engineer to join our growing team. In this role, you will be responsible for developing and maintaining our data infrastructure to support the organization's data needs. You will work closely with data scientists, financial analysts, and other stakeholders to ensure data is readily available, accurate, and accessible for analysis and decision-making.\\nWHAT YOU WILL DO\\n\\nDesign, develop, and maintain scalable data pipelines to process and transform large volumes of data from disparate financial systems and blockchain data for our Treasury database and BTC Bridge data reporting\\nImplement and sustain data lakes to store structured and unstructured data from various sources, ensuring data quality and integrity\\nProduce real-time data streaming solutions for efficient data processing and analysis\\nOptimize and tune queries for efficient data retrieval and analysis, working closely with data scientists and analysts\\nDevelop and implement data integration solutions, connecting data from disparate sources to enable comprehensive analysis and insights\\nUtilize big data technologies to enable large-scale data processing and analytics\\nApply knowledge of distributed systems to implement and maintain reliable and scalable data infrastructure\\nCollaborate with cross-functional teams to define data requirements, ensuring alignment with business goals and objectives\\nMonitor and maintain the health, performance, and security of the data infrastructure, promptly addressing any issues that arise\\nPartner with the finance team to identify new financial data to capture\\nEnsure data warehousing meets SOC2 security standards\\nStay current with industry trends and best practices, continuously improving and updating our data architecture and processes.\\n\\n\\n\\nWHAT YOU WILL BRING\\n\\nBachelor's degree in Computer Science, Engineering, or a related field; a Master's degree is a plus.\\n5+ years of experience as a Data Engineer, with a strong background in Go, Scala, and Python\\nProven experience with data lakes, Kafka, PrestoDB, Apache Spark, distributed systems, and data integration technologies\\nDeep understanding of data modeling, data warehousing, and ETL processes\\nStrong knowledge of SQL and NoSQL databases, as well as query optimization techniques\\nFamiliarity with big data technologies, such as Hadoop, Flink, or other distributed computing frameworks\\nExcellent problem-solving skills, attention to detail, and the ability to work independently and in a team environment\\nStrong communication skills, both written and verbal, with the ability to clearly explain technical concepts to non-technical stakeholders\\nPassion for crypto/web3 and eagerness to be at its forefront\\n\\nBase Salary Range: $151,200.00 - $208,200.00\\n(**This is not a guarantee of compensation or salary, a final offer amount may vary based on factors including but not limited to experience and geographic location.)\\n#LI-Remote #LI-BA1\\n\\nWHY AVA LABS?\\nIf you've ever thought about joining an early stage Web3 company - this is it! We're a global, world-class team of experts in computer science, economics, finance, marketing, and law with offices in New York City and Miami. We're highly passionate about Web3 and redefining the way people build and use finance and decentralized applications of all kinds. The company received early-stage funding from Andreessen Horowitz, Initialized Capital, and Polychain Capital, with angel investments from Balaji Srinivasan and Naval Ravikant. Join us and be a pioneer in a new technology that will have implications across a range of verticals such as finance, gaming, investing, collectibles, among many others.\\nAva Labs is committed to diversity in the workplace and we’re proud to be an Equal Opportunity Employer. We do not hire on basis of race, color, religion, creed, gender, national origin, citizenship, age, disability, veteran status, marital status, pregnancy, parental status, sex, gender expression or identity, sexual orientation, or any other basis protected by local, state or federal law. All employment is decided on the basis of qualifications, merit, and business need.\n",
       "11371296    DoD SkillBridge Internship - Technician/Specialist - Salt Lake City, UTThis opportunity is unique to active-duty US Military Service members with formal approval to participate as a DoD SkillBridge Intern in collaboration with Vets2PM's authorized DoD SkillBridge program.Desired Military Experience, Backgrounds and/or Aptitude:Civil Engineering (HVAC & Electrician)Mechanical/Electrical/Electronic/Computer SystemsAutomation/Integration Technicians & SpecialistsNuclear Engineering/Power/EnergySatellite/Radar SystemsComm TechsFire Control NavaidsSubmarine Electronics/Computer TechsAvionics Systems & more!About our Smart Buildings:Because we spend 90% of our lives in buildings, they should be perfect places for all we do. Smart buildings enhance the experience. Interacting with people, systems, and ambient elements, they learn from experience and real-time input. Using intelligent control, security, and energy management systems, we help factories and offices better support the industries they house. We help schools, hospitals, data centers, and military bases have a great impact - all while increasing comfort, efficiency, resilience, and safety. Our Smart Buildings help to create efficient, safe, responsive, and responsible environments. Our aim isn't just about improving buildings; it's about creating perfect places that improve peoples' lives.>>Lean more about Siemens Smart BuildingsOur Three Main Business Groups that you could be assigned to:Building Automation: HVAC Controls, Lighting Controls, and Mechanical/Electrical ServicesFire/Life Safety: Fire Alarm, Mass/Emergency Communication, and Sprinkler/SuppressionSecurity: Integrated Surveillance and Access ControlsWhat Technicians/Specialists do for Siemens Smart Infrastructure:  Technicians/Specialists are the people that (for Service) gather data, troubleshoot, and carries-out critical maintenance and repairs; or (for Solutions) install new equipment, run start-up, and commission systems in our customers' HVAC/Building Automation, Fire/Life Safety, or Integrated Security systems in large commercial buildings such as hospitals, universities, and military bases. Why is this so important? The Technician/Specialist is the face of Siemens, and your expertise and regular interaction with the customer will help them save energy, money, and create a more sustainable future for our environment. Responsibilities:Meet with the customers (for Service) to diagnose their HVAC/Building Automation, Fire/Life Safety, or Integrated Security electronic control system malfunctions and use your expertise to maintain, repair, or (for Solutions) install new equipment; commissioning if neededConsult with our internal engineering and management team for discrepancies in our drawings or as problems ariseInterface with the customers: complete the service work documentation, assist them with training instructions needed for future ease-of-use, and (most importantly) recommend system enhancements providing a value-added partner relationshipQualifications:U.S. Military experience as an E4 or above (Navy, Air Force, Army, Marines, Coast Guard, Space Force, National Guard, Reserves)High school diploma or state-recognized GED required; Associates degree preferredElectro-mechanical aptitude/knowledge/skillsKnowledge of Building Automation Controls, Fire/Life Safety or Integrated Security systems preferredFor positions related to Fire/Life Safety: knowledge of NFPA codes and ability to obtain certification in NICET I is preferredComputer and software skillsMicrosoft Office and Microsoft Project experience preferredQualified applicants must be legally authorized for employment in the United StatesMust be 21 years of age and possess a valid driver's license with limited violationsYou must be able to read/understand design and construction documents; work in a variety of environments in and around mechanical equipment, including climbing ladders, scaffolds, and high-lift equipment, working in ducts, above ceilings, and in outside/inside/heat/cold/day/night conditions; use hand tools, laptop, email, smartphone, and tablet; carry and move equipment and tools weighing up to 50 pounds unassistedThis position may support Siemens' customers who require all employees and vendors to be fully vaccinated against COVID-19 where permitted by applicable law and in accordance with an accommodation based on legally protected reasons. Why work for Siemens as a SkillBridge Intern?You will gain hands-on experience during your internship and will have the opportunity to join (upon successful completion of the internship) one of the world's largest and best-known companies as acknowledged in 2022 by:Fortune: World's Most Admired CompaniesForbes: America's Best Large Employers, America's Best Employers for Diversity, and Best Employers for New GraduatesFast Company: Most Innovative Companies and World Changing Ideas AwardsCorporate Equality Index: Best Places to Work for LGBTQ+ EqualityWe offer our full-time employees (post-SkillBridge) an excellent benefits/compensation package, growth/learning/development opportunities, and a diverse/inclusive culture where everyone plays their part and makes an impact for our team and our customers.#RSS#DODSB#LI-CR1Organization: Smart InfrastructureCompany: Siemens Industry, Inc.Experience Level: Early ProfessionalFull / Part time: Full-Time temporaryEqual Employment Opportunity StatementSiemens is an Equal Opportunity and Affirmative Action Employer encouraging diversity in the workplace. All qualified applicants will receive consideration for employment without regard to their race, color, creed, religion, national origin, citizenship status, ancestry, sex, age, physical or mental disability unrelated to ability, marital status, family responsibilities, pregnancy, genetic information, sexual orientation, gender expression, gender identity, transgender, sex stereotyping, order of protection status, protected veteran or military status, or an unfavorable discharge from military service, and other categories protected by federal, state or local law.EEO is the LawApplicants and employees are protected under Federal law from discrimination. To learn more, Click here.Pay Transparency Non-Discrimination ProvisionSiemens follows Executive Order 11246, including the Pay Transparency Nondiscrimination Provision. To learn more, Click here.California Privacy NoticeCalifornia residents have the right to receive additional notices about their personal information. To learn more, click here.\n",
       "Name: contents, dtype: object"
      ]
     },
     "execution_count": 118,
     "metadata": {},
     "output_type": "execute_result"
    }
   ],
   "source": [
    "# cleaning contents\n",
    "from bs4 import BeautifulSoup\n",
    "def parse_html_to_text(content):\n",
    "    return BeautifulSoup(content, features=\"html.parser\").get_text()\n",
    "\n",
    "df['contents'] = df['contents'].apply(parse_html_to_text)\n",
    "df['contents'].iloc[0:4]"
   ]
  },
  {
   "cell_type": "code",
   "execution_count": 119,
   "metadata": {},
   "outputs": [],
   "source": [
    "# Removing extra characters like '\\t','\\n' etc\n",
    "df.replace(to_replace=[r\"\\\\t|\\\\n|\\\\r\", \"\\t|\\n|\\r\"], value=[\"\",\"\"], regex=True, inplace=True)"
   ]
  },
  {
   "cell_type": "code",
   "execution_count": 120,
   "metadata": {},
   "outputs": [],
   "source": [
    "df['publication_date'].str.split('T',expand=True)\n",
    "df['date_published']=df['publication_date'].str.split('T',expand=True)[0]\n",
    "df['time_published']=df['publication_date'].str.split('T',expand=True)[1]\n",
    "df['time_published']=df['time_published'].str.replace('\\D$','',regex=True)\n",
    "df.drop('publication_date',axis=1,inplace=True)"
   ]
  },
  {
   "cell_type": "code",
   "execution_count": 121,
   "metadata": {},
   "outputs": [
    {
     "name": "stdout",
     "output_type": "stream",
     "text": [
      "False\n",
      "1\n"
     ]
    }
   ],
   "source": [
    "#checking if all the values for df['type'] column is external\n",
    "print(all(map(lambda x:x=='external',df['type'])))\n",
    "print(df['model_type'].nunique())"
   ]
  },
  {
   "cell_type": "code",
   "execution_count": 122,
   "metadata": {},
   "outputs": [
    {
     "data": {
      "text/plain": [
       "type\n",
       "external    8037\n",
       "native         1\n",
       "Name: count, dtype: int64"
      ]
     },
     "execution_count": 122,
     "metadata": {},
     "output_type": "execute_result"
    }
   ],
   "source": [
    "df['type'].value_counts()"
   ]
  },
  {
   "cell_type": "code",
   "execution_count": 123,
   "metadata": {},
   "outputs": [],
   "source": [
    "df.set_index('id',inplace=True)\n",
    "df.drop(['short_name','model_type','categories','type','refs','tags'],axis=1,inplace=True)"
   ]
  },
  {
   "cell_type": "code",
   "execution_count": 124,
   "metadata": {},
   "outputs": [],
   "source": [
    "def clean_locations(loc):\n",
    "   locations=[]\n",
    "   #states=[]\n",
    "   if loc!=None and len(loc)!=0:\n",
    "      for i in range(len(loc)):\n",
    "            locations.append(loc[i]['name'])\n",
    "      #temp=loc[0]['name'].split(',')[1]\n",
    "   return locations"
   ]
  },
  {
   "cell_type": "code",
   "execution_count": 125,
   "metadata": {},
   "outputs": [],
   "source": [
    "df['locations']=df['locations'].apply(clean_locations)\n",
    "df['levels']=df['levels'].apply(lambda level:level[0]['short_name'])\n",
    "#df['tags']=df['tags'].apply(lambda tag: tag[0]['name'] if len(tag) != 0 else None)\n",
    "#df['refs']=df['refs'].apply(lambda ref:ref['landing_page'])\n",
    "df['company']=df['company'].apply(lambda company:company['name'])"
   ]
  },
  {
   "cell_type": "code",
   "execution_count": 126,
   "metadata": {},
   "outputs": [],
   "source": [
    "def func_states(loc):\n",
    "    if loc==None:\n",
    "        return []\n",
    "    elif 'Flexible / Remote' in loc:\n",
    "        return ['Remote']\n",
    "    else:\n",
    "        lst=[]\n",
    "        for i in range(len(loc)):\n",
    "            if loc[i]!='United States':\n",
    "                st=loc[i].split(',')[1].strip()\n",
    "                if st not in lst:\n",
    "                    lst.append(st)\n",
    "        return lst"
   ]
  },
  {
   "cell_type": "code",
   "execution_count": 127,
   "metadata": {},
   "outputs": [],
   "source": [
    "df['states']=df['locations'].apply(func_states)"
   ]
  },
  {
   "attachments": {},
   "cell_type": "markdown",
   "metadata": {},
   "source": [
    "remove listings that have multiple states in their locations"
   ]
  },
  {
   "cell_type": "code",
   "execution_count": 135,
   "metadata": {},
   "outputs": [],
   "source": [
    "row = 0\n",
    "while row < len(df['states']):\n",
    "    if len(df['states'].iloc[row]) > 1:\n",
    "        df.drop(index = df.iloc[row].name, inplace= True)\n",
    "        row -= 1\n",
    "    row += 1    "
   ]
  },
  {
   "cell_type": "code",
   "execution_count": 29,
   "metadata": {},
   "outputs": [],
   "source": [
    "#df_new=df[['name', 'states', 'levels', 'company',\n",
    "#        'date_published', 'time_published']].explode('states')\n",
    "# df_new.reset_index()"
   ]
  },
  {
   "cell_type": "code",
   "execution_count": 138,
   "metadata": {},
   "outputs": [],
   "source": [
    "df[['name', 'states', 'levels', 'company',\n",
    "        'date_published', 'time_published']].explode('states').to_csv('data_analytics_clean.csv')"
   ]
  },
  {
   "cell_type": "code",
   "execution_count": 91,
   "metadata": {},
   "outputs": [],
   "source": [
    "df[['contents','locations']].to_csv('contents_locations.csv')"
   ]
  }
 ],
 "metadata": {
  "kernelspec": {
   "display_name": "base",
   "language": "python",
   "name": "python3"
  },
  "language_info": {
   "codemirror_mode": {
    "name": "ipython",
    "version": 3
   },
   "file_extension": ".py",
   "mimetype": "text/x-python",
   "name": "python",
   "nbconvert_exporter": "python",
   "pygments_lexer": "ipython3",
   "version": "3.10.7"
  },
  "orig_nbformat": 4
 },
 "nbformat": 4,
 "nbformat_minor": 2
}
